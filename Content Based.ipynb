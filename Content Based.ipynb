{
 "cells": [
  {
   "cell_type": "code",
   "execution_count": 1,
   "id": "70983579-a18e-48c5-a5b8-c0ba14df3090",
   "metadata": {},
   "outputs": [
    {
     "name": "stdout",
     "output_type": "stream",
     "text": [
      "Recommendations for 'The Lost Kingdom':\n",
      "- Code of the Future (score: 0.09)\n",
      "- The Eternal Flame (score: 0.08)\n",
      "- Whispers of the Night (score: 0.00)\n",
      "- Ocean's Secret (score: 0.00)\n",
      "- The Time Traveler's Diary (score: 0.00)\n"
     ]
    }
   ],
   "source": [
    "import pandas as pd\n",
    "from sklearn.feature_extraction.text import TfidfVectorizer\n",
    "from sklearn.metrics.pairwise import cosine_similarity\n",
    "\n",
    "# Sample dataset\n",
    "data = [\n",
    "    [1,\"The Lost Kingdom\",\"A thrilling adventure of a young explorer who discovers a hidden kingdom\",\"John Carter\"],\n",
    "    [2,\"Whispers of the Night\",\"A mystery novel about strange whispers haunting a small town\",\"Mary Adams\"],\n",
    "    [3,\"Ocean's Secret\",\"A marine biologist uncovers secrets deep beneath the ocean\",\"Peter White\"],\n",
    "    [4,\"The Time Traveler's Diary\",\"The journey of a man traveling across centuries through a magical diary\",\"Linda Grey\"],\n",
    "    [5,\"Shadows in the Forest\",\"A suspenseful story of hikers trapped in a haunted forest\",\"David King\"],\n",
    "    [6,\"Journey to Mars\",\"An astronaut’s first human mission to Mars turns into a survival challenge\",\"Susan Lee\"],\n",
    "    [7,\"The Hidden Truth\",\"An investigative journalist uncovers political corruption\",\"Michael Brown\"],\n",
    "    [8,\"Under the Crimson Sky\",\"A love story set in the midst of a civil war\",\"Emily Stone\"],\n",
    "    [9,\"The Cursed Painting\",\"A cursed painting brings misfortune to its owners\",\"Anna Green\"],\n",
    "    [10,\"Code of the Future\",\"A young programmer creates an AI that changes the world\",\"Robert Hall\"],\n",
    "    [11,\"Desert Storm\",\"A survival story of a pilot stranded in the desert\",\"Richard West\"],\n",
    "    [12,\"Melody of the Heart\",\"A gifted pianist navigates love and ambition\",\"Sophia Taylor\"],\n",
    "    [13,\"The Last Heir\",\"A royal family’s last surviving heir must reclaim the throne\",\"Thomas Reed\"],\n",
    "    [14,\"City of Glass\",\"A detective investigates crimes in a city made entirely of glass buildings\",\"Olivia Turner\"],\n",
    "    [15,\"The Forgotten Island\",\"Shipwreck survivors discover an island with dark secrets\",\"Henry Clarke\"],\n",
    "    [16,\"Secrets of the Library\",\"A librarian finds an ancient manuscript leading to treasure\",\"Sarah Bell\"],\n",
    "    [17,\"The Quantum Code\",\"A scientist unlocks a code that can alter reality\",\"Daniel Scott\"],\n",
    "    [18,\"Footprints in the Snow\",\"A cold-case murder investigation in a snowy mountain town\",\"Laura Parker\"],\n",
    "    [19,\"The Eternal Flame\",\"A fantasy tale of a warrior seeking a legendary flame to save her kingdom\",\"Nathan Brooks\"],\n",
    "    [20,\"Voices from the Past\",\"An archaeologist hears voices from ancient ruins\",\"Grace Miller\"]\n",
    "]\n",
    "\n",
    "df = pd.DataFrame(data, columns=[\"book_id\", \"title\", \"summary\", \"author\"])\n",
    "\n",
    "# Combine summary + author for features\n",
    "df[\"content\"] = df[\"summary\"] + \" \" + df[\"author\"]\n",
    "\n",
    "# TF-IDF Vectorization\n",
    "vectorizer = TfidfVectorizer(stop_words='english')\n",
    "tfidf_matrix = vectorizer.fit_transform(df[\"content\"])\n",
    "\n",
    "# Compute cosine similarity\n",
    "cosine_sim = cosine_similarity(tfidf_matrix, tfidf_matrix)\n",
    "\n",
    "# Function to recommend books\n",
    "def recommend_books(title, num_recommendations=5):\n",
    "    if title not in df[\"title\"].values:\n",
    "        return f\"Book '{title}' not found in dataset.\"\n",
    "    \n",
    "    idx = df.index[df[\"title\"] == title][0]\n",
    "    sim_scores = list(enumerate(cosine_sim[idx]))\n",
    "    sim_scores = sorted(sim_scores, key=lambda x: x[1], reverse=True)\n",
    "    sim_scores = sim_scores[1:num_recommendations+1]  # Skip itself\n",
    "    \n",
    "    recommendations = []\n",
    "    for i, score in sim_scores:\n",
    "        recommendations.append((df.iloc[i][\"title\"], score))\n",
    "    return recommendations\n",
    "\n",
    "# Example usage\n",
    "print(\"Recommendations for 'The Lost Kingdom':\")\n",
    "for rec, score in recommend_books(\"The Lost Kingdom\"):\n",
    "    print(f\"- {rec} (score: {score:.2f})\")\n"
   ]
  },
  {
   "cell_type": "code",
   "execution_count": null,
   "id": "934252cf-584b-4cfe-92c1-3da395d5f913",
   "metadata": {},
   "outputs": [],
   "source": []
  }
 ],
 "metadata": {
  "kernelspec": {
   "display_name": "Python 3 (ipykernel)",
   "language": "python",
   "name": "python3"
  },
  "language_info": {
   "codemirror_mode": {
    "name": "ipython",
    "version": 3
   },
   "file_extension": ".py",
   "mimetype": "text/x-python",
   "name": "python",
   "nbconvert_exporter": "python",
   "pygments_lexer": "ipython3",
   "version": "3.10.11"
  }
 },
 "nbformat": 4,
 "nbformat_minor": 5
}
